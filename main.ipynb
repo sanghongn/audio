{
  "nbformat": 4,
  "nbformat_minor": 0,
  "metadata": {
    "colab": {
      "provenance": [],
      "mount_file_id": "1IWev1zu7c7_j-v2xb6WX-xICydHSPU_B",
      "authorship_tag": "ABX9TyOh4IXHsUrKXx/QtjJnayLb",
      "include_colab_link": true
    },
    "kernelspec": {
      "name": "python3",
      "display_name": "Python 3"
    },
    "language_info": {
      "name": "python"
    },
    "accelerator": "GPU",
    "gpuClass": "standard"
  },
  "cells": [
    {
      "cell_type": "markdown",
      "metadata": {
        "id": "view-in-github",
        "colab_type": "text"
      },
      "source": [
        "<a href=\"https://colab.research.google.com/github/sanghongn/audio/blob/main/test.ipynb\" target=\"_parent\"><img src=\"https://colab.research.google.com/assets/colab-badge.svg\" alt=\"Open In Colab\"/></a>"
      ]
    },
    {
      "cell_type": "code",
      "execution_count": 8,
      "metadata": {
        "colab": {
          "base_uri": "https://localhost:8080/"
        },
        "id": "fybvn7JeFitr",
        "outputId": "36e32f35-7887-40d1-d23e-ecc6dcb7b0af"
      },
      "outputs": [
        {
          "output_type": "stream",
          "name": "stdout",
          "text": [
            "Looking in indexes: https://pypi.org/simple, https://us-python.pkg.dev/colab-wheels/public/simple/\n",
            "Requirement already satisfied: python_speech_features in /usr/local/lib/python3.8/dist-packages (0.6)\n"
          ]
        }
      ],
      "source": [
        "pip install python_speech_features"
      ]
    },
    {
      "cell_type": "code",
      "source": [
        "import os\n",
        "from scipy.io import wavfile\n",
        "import pandas as pd\n",
        "import matplotlib.pyplot as plt\n",
        "import numpy as np\n",
        "from keras.layers import Conv2D, MaxPool2D, Flatten, LSTM\n",
        "from keras.layers import Dropout, Dense, TimeDistributed\n",
        "from keras.models import Sequential\n",
        "from keras.utils import to_categorical\n",
        "from sklearn.utils.class_weight import compute_class_weight\n",
        "from tqdm import tqdm\n",
        "from python_speech_features import mfcc\n",
        "import pickle\n",
        "from keras.models import load_model\n",
        "from sklearn.metrics import accuracy_score\n",
        "from keras.callbacks import ModelCheckpoint"
      ],
      "metadata": {
        "id": "xO6kLB1IFmz-"
      },
      "execution_count": 9,
      "outputs": []
    },
    {
      "cell_type": "code",
      "source": [
        "class Config:\n",
        "    def __init__(self, mode='conv', nfilt=26, nfeat=13, nfft=512, rate=16000):\n",
        "        self.mode = mode\n",
        "        self.nfilt = nfilt\n",
        "        self.nfeat = nfeat\n",
        "        self.nfft = nfft\n",
        "        self.rate = rate\n",
        "        self.step = int(rate/10)\n",
        "        self.model_path = os.path.join('/content/drive/MyDrive/models', mode + '.model')\n",
        "        self.p_path = os.path.join('/content/drive/MyDrive/pickle', mode + '.p')\n",
        "        \n",
        "def check_data():\n",
        "    if os.path.isfile(config.p_path):\n",
        "        print('loading existing data for {} model'.format(config.mode))\n",
        "        with open(config.p_path, 'rb') as handle:\n",
        "            tmp = pickle.load(handle)\n",
        "            return tmp\n",
        "    else:\n",
        "        return None\n",
        "         \n",
        "        \n",
        "def build_rand_feat():\n",
        "    tmp = check_data()\n",
        "    if tmp:\n",
        "        return tmp.data[0], tmp.data[1]\n",
        "    X = []\n",
        "    y= []\n",
        "    _min, _max = float('inf'), -float('inf')\n",
        "    for _ in tqdm(range(n_samples)):\n",
        "        rand_class = np.random.choice(class_dist.index, p = prob_dist)\n",
        "        file = np.random.choice(df[df.label==rand_class].index)\n",
        "        rate, wav = wavfile.read('/content/drive/MyDrive/train/'+file)\n",
        "        label = df.at[file,'label']\n",
        "        #random index of each signal???\n",
        "        rand_index = np.random.randint(0, wav.shape[0]-config.step)\n",
        "        #take a window of sample\n",
        "        sample = wav[rand_index: rand_index+config.step]\n",
        "        #calculate 39 feature each windows??\n",
        "        #X_sample = mfcc(sample, rate,\n",
        "                         #numcep=config.nfeat, nfilt=config.nfilt, nfft=config.nfft).T\n",
        "        X_sample = mfcc(sample, rate,\n",
        "                       numcep=config.nfeat, nfilt=config.nfilt, nfft=config.nfft)\n",
        "        _min = min(np.amin(X_sample), _min)\n",
        "        _max = max(np.amax(X_sample), _max)\n",
        "        #X.append(X_sample if config.mode == 'conv' else X_sample.T)\n",
        "        X.append(X_sample)\n",
        "        y.append(classes.index(label))\n",
        "    #dont want recalculate when load model\n",
        "    config.min = _min\n",
        "    config.max = _max\n",
        "    X, y = np.array(X), np.array(y)\n",
        "    X = (X - _min)/(_max - _min)\n",
        "    if config.mode == 'conv':\n",
        "        X = X.reshape(X.shape[0], X.shape[1], X.shape[2], 1)\n",
        "    elif config.mode == 'time':\n",
        "        X = X.reshape(X.shape[0], X.shape[1], X.shape[2])\n",
        "    y = to_categorical(y, num_classes=10)\n",
        "    config.data = (X,y)\n",
        "    with open(config.p_path, 'wb') as handle:\n",
        "        pickle.dump(config, handle, protocol = 2) \n",
        "    return X, y\n",
        "        \n",
        "        \n",
        "def get_conv_model():\n",
        "    model = Sequential()\n",
        "    model.add(Conv2D(16,(3, 3), activation='relu',strides=(1,1),padding='same', input_shape=input_shape))\n",
        "    model.add(Conv2D(32,(3, 3), activation='relu',strides=(1,1),padding='same', input_shape=input_shape))\n",
        "    model.add(Conv2D(64, (3, 3), activation='relu',strides=(1,1),padding='same', input_shape=input_shape))\n",
        "    model.add(Conv2D(128, (3,3), activation='relu',strides=(1,1),padding='same', input_shape=input_shape))\n",
        "    model.add(MaxPool2D((2,2)))\n",
        "    model.add(Dropout(0.5))\n",
        "    model.add(Flatten())\n",
        "    model.add(Dense(128, activation='relu'))\n",
        "    model.add(Dense(64, activation='relu'))\n",
        "    model.add(Dense(10, activation='softmax'))\n",
        "    model.summary()\n",
        "    model.compile(loss='categorical_crossentropy', optimizer='adam', metrics=['acc'], jit_compile = True)\n",
        "    return model\n",
        "\n",
        "def build_predictions(audio_dir):\n",
        "    y_true = []\n",
        "    y_pred = []\n",
        "    fn_prob = {}\n",
        "    \n",
        "    print('Extracting feature from audio')\n",
        "    for fn in tqdm(os.listdir(audio_dir)):\n",
        "        rate, wav = wavfile.read(os.path.join(audio_dir, fn))\n",
        "        label = fn2class[fn]\n",
        "        c = classes.index(label)\n",
        "        y_prob = []\n",
        "        \n",
        "        for i in range(0, wav.shape[0]-config.step, config.step):\n",
        "            sample = wav[i:i+config.step]\n",
        "            x = mfcc(sample, rate, numcep=config.nfeat, nfilt=config.nfilt, nfft=config.nfft)\n",
        "            x = (x - config.min)/(config.max - config.min)\n",
        "            \n",
        "            if config.mode == 'conv':\n",
        "                x = x.reshape(1, x.shape[0], x.shape[1], 1)\n",
        "            elif config.mode == 'time':\n",
        "                x = np.expand_dims(x, axis=0)\n",
        "            y_hat = model.predict(x, verbose=0)\n",
        "            y_prob.append(y_hat)\n",
        "            y_pred.append(np.argmax(y_hat))\n",
        "            y_true.append(c)\n",
        "        fn_prob[fn] = np.mean(y_prob, axis=0).flatten()\n",
        "    return y_true, y_pred, fn_prob"
      ],
      "metadata": {
        "id": "O0stzDpcFm3C"
      },
      "execution_count": 20,
      "outputs": []
    },
    {
      "cell_type": "code",
      "source": [
        "df = pd.read_csv('/content/drive/MyDrive/instruments.csv')\n",
        "df.set_index('fname', inplace=True)\n",
        "\n",
        "for f in df.index:\n",
        "    rate, signal = wavfile.read('/content/drive/MyDrive/train/'+f)\n",
        "    #return a colum contans length of audios\n",
        "    df.at[f, 'length'] = signal.shape[0]/rate\n",
        "\n",
        "#create a list of instruments' name\n",
        "classes = list(np.unique(df.label))\n",
        "#create length mean of each type\n",
        "class_dist = df.groupby(['label'])['length'].mean()\n",
        "t = class_dist.sum()\n",
        "t2 = df['length'].sum()\n",
        "\n",
        "n_samples = 2*int(df['length'].sum()/0.1)\n",
        "#probability of a type in 10 type\n",
        "prob_dist = class_dist/class_dist.sum()\n",
        "choices = np.random.choice(class_dist.index, p=prob_dist)\n",
        "\n",
        "#plot pie\n",
        "fig, ax = plt.subplots()\n",
        "ax.set_title('Class Distribution', y=1.08)\n",
        "ax.pie(class_dist, labels=class_dist.index, autopct='%1.1f%%',\n",
        "       shadow=False, startangle=90)\n",
        "ax.axis('equal')\n",
        "plt.show()\n",
        "\n"
      ],
      "metadata": {
        "colab": {
          "base_uri": "https://localhost:8080/",
          "height": 282
        },
        "id": "fkWAXtxiFm5p",
        "outputId": "1994e12c-d503-476b-d665-6441b641a08f"
      },
      "execution_count": 11,
      "outputs": [
        {
          "output_type": "display_data",
          "data": {
            "text/plain": [
              "<Figure size 432x288 with 1 Axes>"
            ],
            "image/png": "[encoded data removed]"
          },
          "metadata": {}
        }
      ]
    },
    {
      "cell_type": "code",
      "source": [
        "config = Config(mode = 'conv')\n",
        "if config.mode == 'conv':\n",
        "    X, y = build_rand_feat()\n",
        "    y_flat = np.argmax(y, axis = 1)\n",
        "    input_shape = (X.shape[1], X.shape[2],1)\n",
        "    model = get_conv_model()"
      ],
      "metadata": {
        "colab": {
          "base_uri": "https://localhost:8080/"
        },
        "id": "4HV5JxuVFm8Q",
        "outputId": "7d1563fb-7793-4b5a-bdd6-817584f7d694"
      },
      "execution_count": 12,
      "outputs": [
        {
          "output_type": "stream",
          "name": "stdout",
          "text": [
            "loading existing data for conv model\n",
            "Model: \"sequential_1\"\n",
            "_________________________________________________________________\n",
            " Layer (type)                Output Shape              Param #   \n",
            "=================================================================\n",
            " conv2d_4 (Conv2D)           (None, 9, 13, 16)         160       \n",
            "                                                                 \n",
            " conv2d_5 (Conv2D)           (None, 9, 13, 32)         4640      \n",
            "                                                                 \n",
            " conv2d_6 (Conv2D)           (None, 9, 13, 64)         18496     \n",
            "                                                                 \n",
            " conv2d_7 (Conv2D)           (None, 9, 13, 128)        73856     \n",
            "                                                                 \n",
            " max_pooling2d_1 (MaxPooling  (None, 4, 6, 128)        0         \n",
            " 2D)                                                             \n",
            "                                                                 \n",
            " dropout_1 (Dropout)         (None, 4, 6, 128)         0         \n",
            "                                                                 \n",
            " flatten_1 (Flatten)         (None, 3072)              0         \n",
            "                                                                 \n",
            " dense_3 (Dense)             (None, 128)               393344    \n",
            "                                                                 \n",
            " dense_4 (Dense)             (None, 64)                8256      \n",
            "                                                                 \n",
            " dense_5 (Dense)             (None, 10)                650       \n",
            "                                                                 \n",
            "=================================================================\n",
            "Total params: 499,402\n",
            "Trainable params: 499,402\n",
            "Non-trainable params: 0\n",
            "_________________________________________________________________\n"
          ]
        }
      ]
    },
    {
      "cell_type": "code",
      "source": [
        "class_weight = compute_class_weight(class_weight='balanced', classes=np.unique(y_flat),y=y_flat)\n",
        "class_weight = {i:class_weight[i] for i in range(len(class_weight))}\n",
        "\n",
        "checkpoint = ModelCheckpoint(config.model_path, monitor='val_acc', verbose=0, mode='max', \n",
        "                            save_best_only=True,\n",
        "                            save_weights_only=False, save_freq='epoch')\n",
        "#model.fit(X, y, epochs=10, batch_size=32, shuffle=True, class_weight=class_weight)\n",
        "model.fit(X, y, epochs=10, batch_size=32, shuffle=True, class_weight=class_weight,\n",
        "           validation_split=0.1, callbacks=[checkpoint])\n",
        "\n",
        "model.save(config.model_path)"
      ],
      "metadata": {
        "colab": {
          "base_uri": "https://localhost:8080/"
        },
        "id": "qO4P1hE5Fm-2",
        "outputId": "740cbc5f-8d21-420d-d16e-61601ba43a4b"
      },
      "execution_count": 13,
      "outputs": [
        {
          "output_type": "stream",
          "name": "stdout",
          "text": [
            "Epoch 1/10\n",
            "743/743 [==============================] - ETA: 0s - loss: 1.0454 - acc: 0.6022"
          ]
        },
        {
          "output_type": "stream",
          "name": "stderr",
          "text": [
            "WARNING:absl:Found untraced functions such as _jit_compiled_convolution_op, _jit_compiled_convolution_op, _jit_compiled_convolution_op, _jit_compiled_convolution_op while saving (showing 4 of 4). These functions will not be directly callable after loading.\n"
          ]
        },
        {
          "output_type": "stream",
          "name": "stdout",
          "text": [
            "\b\b\b\b\b\b\b\b\b\b\b\b\b\b\b\b\b\b\b\b\b\b\b\b\b\b\b\b\b\b\b\b\b\b\b\b\b\b\b\b\b\b\b\b\b\b\b\b\b\b\b\b\b\b\b\b\b\b\b\b\b\b\b\b\b\b\b\b\b\b\b\b\b\b\b\b\b\b\b\r743/743 [==============================] - 10s 11ms/step - loss: 1.0454 - acc: 0.6022 - val_loss: 0.6110 - val_acc: 0.7936\n",
            "Epoch 2/10\n",
            "741/743 [============================>.] - ETA: 0s - loss: 0.4977 - acc: 0.8122"
          ]
        },
        {
          "output_type": "stream",
          "name": "stderr",
          "text": [
            "WARNING:absl:Found untraced functions such as _jit_compiled_convolution_op, _jit_compiled_convolution_op, _jit_compiled_convolution_op, _jit_compiled_convolution_op while saving (showing 4 of 4). These functions will not be directly callable after loading.\n"
          ]
        },
        {
          "output_type": "stream",
          "name": "stdout",
          "text": [
            "\b\b\b\b\b\b\b\b\b\b\b\b\b\b\b\b\b\b\b\b\b\b\b\b\b\b\b\b\b\b\b\b\b\b\b\b\b\b\b\b\b\b\b\b\b\b\b\b\b\b\b\b\b\b\b\b\b\b\b\b\b\b\b\b\b\b\b\b\b\b\b\b\b\b\b\b\b\b\b\r743/743 [==============================] - 8s 10ms/step - loss: 0.4976 - acc: 0.8123 - val_loss: 0.3637 - val_acc: 0.8754\n",
            "Epoch 3/10\n",
            "743/743 [==============================] - ETA: 0s - loss: 0.3560 - acc: 0.8639"
          ]
        },
        {
          "output_type": "stream",
          "name": "stderr",
          "text": [
            "WARNING:absl:Found untraced functions such as _jit_compiled_convolution_op, _jit_compiled_convolution_op, _jit_compiled_convolution_op, _jit_compiled_convolution_op while saving (showing 4 of 4). These functions will not be directly callable after loading.\n"
          ]
        },
        {
          "output_type": "stream",
          "name": "stdout",
          "text": [
            "\b\b\b\b\b\b\b\b\b\b\b\b\b\b\b\b\b\b\b\b\b\b\b\b\b\b\b\b\b\b\b\b\b\b\b\b\b\b\b\b\b\b\b\b\b\b\b\b\b\b\b\b\b\b\b\b\b\b\b\b\b\b\b\b\b\b\b\b\b\b\b\b\b\b\b\b\b\b\b\r743/743 [==============================] - 7s 10ms/step - loss: 0.3560 - acc: 0.8639 - val_loss: 0.2884 - val_acc: 0.9042\n",
            "Epoch 4/10\n",
            "728/743 [============================>.] - ETA: 0s - loss: 0.2797 - acc: 0.8933"
          ]
        },
        {
          "output_type": "stream",
          "name": "stderr",
          "text": [
            "WARNING:absl:Found untraced functions such as _jit_compiled_convolution_op, _jit_compiled_convolution_op, _jit_compiled_convolution_op, _jit_compiled_convolution_op while saving (showing 4 of 4). These functions will not be directly callable after loading.\n"
          ]
        },
        {
          "output_type": "stream",
          "name": "stdout",
          "text": [
            "\b\b\b\b\b\b\b\b\b\b\b\b\b\b\b\b\b\b\b\b\b\b\b\b\b\b\b\b\b\b\b\b\b\b\b\b\b\b\b\b\b\b\b\b\b\b\b\b\b\b\b\b\b\b\b\b\b\b\b\b\b\b\b\b\b\b\b\b\b\b\b\b\b\b\b\b\b\b\b\r743/743 [==============================] - 4s 5ms/step - loss: 0.2797 - acc: 0.8933 - val_loss: 0.2381 - val_acc: 0.9193\n",
            "Epoch 5/10\n",
            "739/743 [============================>.] - ETA: 0s - loss: 0.2403 - acc: 0.9095"
          ]
        },
        {
          "output_type": "stream",
          "name": "stderr",
          "text": [
            "WARNING:absl:Found untraced functions such as _jit_compiled_convolution_op, _jit_compiled_convolution_op, _jit_compiled_convolution_op, _jit_compiled_convolution_op while saving (showing 4 of 4). These functions will not be directly callable after loading.\n"
          ]
        },
        {
          "output_type": "stream",
          "name": "stdout",
          "text": [
            "\b\b\b\b\b\b\b\b\b\b\b\b\b\b\b\b\b\b\b\b\b\b\b\b\b\b\b\b\b\b\b\b\b\b\b\b\b\b\b\b\b\b\b\b\b\b\b\b\b\b\b\b\b\b\b\b\b\b\b\b\b\b\b\b\b\b\b\b\b\b\b\b\b\b\b\b\b\b\b\r743/743 [==============================] - 4s 5ms/step - loss: 0.2401 - acc: 0.9096 - val_loss: 0.2077 - val_acc: 0.9281\n",
            "Epoch 6/10\n",
            "734/743 [============================>.] - ETA: 0s - loss: 0.2085 - acc: 0.9213"
          ]
        },
        {
          "output_type": "stream",
          "name": "stderr",
          "text": [
            "WARNING:absl:Found untraced functions such as _jit_compiled_convolution_op, _jit_compiled_convolution_op, _jit_compiled_convolution_op, _jit_compiled_convolution_op while saving (showing 4 of 4). These functions will not be directly callable after loading.\n"
          ]
        },
        {
          "output_type": "stream",
          "name": "stdout",
          "text": [
            "\b\b\b\b\b\b\b\b\b\b\b\b\b\b\b\b\b\b\b\b\b\b\b\b\b\b\b\b\b\b\b\b\b\b\b\b\b\b\b\b\b\b\b\b\b\b\b\b\b\b\b\b\b\b\b\b\b\b\b\b\b\b\b\b\b\b\b\b\b\b\b\b\b\b\b\b\b\b\b\r743/743 [==============================] - 5s 6ms/step - loss: 0.2082 - acc: 0.9213 - val_loss: 0.1867 - val_acc: 0.9417\n",
            "Epoch 7/10\n",
            "743/743 [==============================] - 3s 4ms/step - loss: 0.1861 - acc: 0.9279 - val_loss: 0.1719 - val_acc: 0.9379\n",
            "Epoch 8/10\n",
            "743/743 [==============================] - 3s 4ms/step - loss: 0.1733 - acc: 0.9332 - val_loss: 0.1862 - val_acc: 0.9390\n",
            "Epoch 9/10\n",
            "732/743 [============================>.] - ETA: 0s - loss: 0.1562 - acc: 0.9404"
          ]
        },
        {
          "output_type": "stream",
          "name": "stderr",
          "text": [
            "WARNING:absl:Found untraced functions such as _jit_compiled_convolution_op, _jit_compiled_convolution_op, _jit_compiled_convolution_op, _jit_compiled_convolution_op while saving (showing 4 of 4). These functions will not be directly callable after loading.\n"
          ]
        },
        {
          "output_type": "stream",
          "name": "stdout",
          "text": [
            "\b\b\b\b\b\b\b\b\b\b\b\b\b\b\b\b\b\b\b\b\b\b\b\b\b\b\b\b\b\b\b\b\b\b\b\b\b\b\b\b\b\b\b\b\b\b\b\b\b\b\b\b\b\b\b\b\b\b\b\b\b\b\b\b\b\b\b\b\b\b\b\b\b\b\b\b\b\b\b\r743/743 [==============================] - 4s 5ms/step - loss: 0.1561 - acc: 0.9405 - val_loss: 0.1598 - val_acc: 0.9451\n",
            "Epoch 10/10\n",
            "743/743 [==============================] - 3s 4ms/step - loss: 0.1479 - acc: 0.9446 - val_loss: 0.1705 - val_acc: 0.9402\n"
          ]
        },
        {
          "output_type": "stream",
          "name": "stderr",
          "text": [
            "WARNING:absl:Found untraced functions such as _jit_compiled_convolution_op, _jit_compiled_convolution_op, _jit_compiled_convolution_op, _jit_compiled_convolution_op while saving (showing 4 of 4). These functions will not be directly callable after loading.\n"
          ]
        }
      ]
    },
    {
      "cell_type": "code",
      "source": [
        "# process predict data\n",
        "df = pd.read_csv('/content/drive/MyDrive/instruments.csv')\n",
        "classes = list(np.unique(df.label))\n",
        "fn2class = dict(zip(df.fname, df.label))\n",
        "p_path = os.path.join('/content/drive/MyDrive/pickle/', 'conv.p')\n",
        "\n",
        "with open(p_path,'rb') as handle:\n",
        "    config = pickle.load(handle)\n",
        "    \n",
        "model = load_model(config.model_path)\n",
        "\n",
        "y_true, y_pred, fn_prob = build_predictions('/content/drive/MyDrive/test/')\n",
        "acc_score = accuracy_score(y_true=y_true, y_pred=y_pred)\n",
        "\n",
        "y_probs =[]\n",
        "for i, row in df.iterrows():\n",
        "    y_prob = fn_prob[row.fname]\n",
        "    y_probs.append(y_prob)\n",
        "    for c, p in zip(classes, y_prob):\n",
        "        df.at[i,c] = p\n",
        "        \n",
        "y_pred = [classes[np.argmax(y)] for y in y_probs]\n",
        "df['y_pred'] = y_pred\n",
        "df.to_csv('prediction.csv', index=False)"
      ],
      "metadata": {
        "colab": {
          "base_uri": "https://localhost:8080/"
        },
        "id": "yIv1V0-FFnBd",
        "outputId": "5df87743-e7fb-44ea-84ae-4ad1801eb260"
      },
      "execution_count": 21,
      "outputs": [
        {
          "output_type": "stream",
          "name": "stdout",
          "text": [
            "Extracting feature from audio\n"
          ]
        },
        {
          "output_type": "stream",
          "name": "stderr",
          "text": [
            "100%|██████████| 300/300 [09:29<00:00,  1.90s/it]\n"
          ]
        }
      ]
    },
    {
      "cell_type": "code",
      "source": [],
      "metadata": {
        "id": "U7bHQfrgFnD1"
      },
      "execution_count": null,
      "outputs": []
    },
    {
      "cell_type": "code",
      "source": [],
      "metadata": {
        "id": "JAKuV30SFnGZ"
      },
      "execution_count": null,
      "outputs": []
    }
  ]
}
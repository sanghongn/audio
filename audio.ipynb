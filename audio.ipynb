{
  "nbformat": 4,
  "nbformat_minor": 0,
  "metadata": {
    "colab": {
      "provenance": [],
      "mount_file_id": "1B8cSiZ60Y8piCHm-b8XtimIZuS6sCjvE",
      "authorship_tag": "ABX9TyOhAWxjS0dNxGkN85v7bavF",
      "include_colab_link": true
    },
    "kernelspec": {
      "name": "python3",
      "display_name": "Python 3"
    },
    "language_info": {
      "name": "python"
    },
    "accelerator": "GPU",
    "gpuClass": "standard"
  },
  "cells": [
    {
      "cell_type": "markdown",
      "metadata": {
        "id": "view-in-github",
        "colab_type": "text"
      },
      "source": [
        "<a href=\"https://colab.research.google.com/github/sanghongn/audio/blob/main/audio.ipynb\" target=\"_parent\"><img src=\"https://colab.research.google.com/assets/colab-badge.svg\" alt=\"Open In Colab\"/></a>"
      ]
    },
    {
      "cell_type": "code",
      "source": [
        "pip install python_speech_features"
      ],
      "metadata": {
        "colab": {
          "base_uri": "https://localhost:8080/"
        },
        "id": "L66yIaXtgNcB",
        "outputId": "b3e731d7-b32d-4b7e-8105-9d5ef84401f0"
      },
      "execution_count": 70,
      "outputs": [
        {
          "output_type": "stream",
          "name": "stdout",
          "text": [
            "Looking in indexes: https://pypi.org/simple, https://us-python.pkg.dev/colab-wheels/public/simple/\n",
            "Requirement already satisfied: python_speech_features in /usr/local/lib/python3.8/dist-packages (0.6)\n"
          ]
        }
      ]
    },
    {
      "cell_type": "code",
      "execution_count": 71,
      "metadata": {
        "id": "risaNvDqgHC5"
      },
      "outputs": [],
      "source": [
        "import os\n",
        "from scipy.io import wavfile\n",
        "import pandas as pd\n",
        "import matplotlib.pyplot as plt\n",
        "import numpy as np\n",
        "from keras.layers import Conv2D, MaxPool2D, Flatten, LSTM\n",
        "from keras.layers import Dropout, Dense, TimeDistributed\n",
        "from keras.models import Sequential\n",
        "from keras.utils import to_categorical\n",
        "from sklearn.utils.class_weight import compute_class_weight\n",
        "from tqdm import tqdm\n",
        "from python_speech_features import mfcc\n",
        "import pickle\n",
        "from keras.models import load_model\n",
        "from sklearn.metrics import accuracy_score\n",
        "from keras.callbacks import ModelCheckpoint"
      ]
    },
    {
      "cell_type": "code",
      "source": [
        "class Config:\n",
        "    def __init__(self, mode='conv', nfilt=26, nfeat=13, nfft=512, rate=16000):\n",
        "        self.mode = mode\n",
        "        self.nfilt = nfilt\n",
        "        self.nfeat = nfeat\n",
        "        self.nfft = nfft\n",
        "        self.rate = rate\n",
        "        self.step = int(rate/10)\n",
        "        self.model_path = os.path.join('/content/drive/MyDrive/models', mode + '.model')\n",
        "        self.p_path = os.path.join('/content/drive/MyDrive/pickle', mode + '.p')\n",
        "        \n",
        "def check_data():\n",
        "    if os.path.isfile(config.p_path):\n",
        "        print('loading existing data for {} model'.format(config.mode))\n",
        "        with open(config.p_path, 'rb') as handle:\n",
        "            tmp = pickle.load(handle)\n",
        "            return tmp\n",
        "    else:\n",
        "        return None\n",
        "         \n",
        "        \n",
        "def build_rand_feat():\n",
        "    tmp = check_data()\n",
        "    if tmp:\n",
        "        return tmp.data[0], tmp.data[1]\n",
        "    X = []\n",
        "    y= []\n",
        "    _min, _max = float('inf'), -float('inf')\n",
        "    for _ in tqdm(range(n_samples)):\n",
        "        rand_class = np.random.choice(class_dist.index, p = prob_dist)\n",
        "        file = np.random.choice(df[df.label==rand_class].index)\n",
        "        rate, wav = wavfile.read('/content/drive/MyDrive/clean/'+file)\n",
        "        label = df.at[file,'label']\n",
        "        #random index of each signal???\n",
        "        rand_index = np.random.randint(0, wav.shape[0]-config.step)\n",
        "        #take a window of sample\n",
        "        sample = wav[rand_index: rand_index+config.step]\n",
        "        #calculate 39 feature each windows??\n",
        "        #X_sample = mfcc(sample, rate,\n",
        "                         #numcep=config.nfeat, nfilt=config.nfilt, nfft=config.nfft).T\n",
        "        X_sample = mfcc(sample, rate,\n",
        "                       numcep=config.nfeat, nfilt=config.nfilt, nfft=config.nfft)\n",
        "        _min = min(np.amin(X_sample), _min)\n",
        "        _max = max(np.amax(X_sample), _max)\n",
        "        #X.append(X_sample if config.mode == 'conv' else X_sample.T)\n",
        "        X.append(X_sample)\n",
        "        y.append(classes.index(label))\n",
        "    #dont want recalculate when load model\n",
        "    config.min = _min\n",
        "    config.max = _max\n",
        "    X, y = np.array(X), np.array(y)\n",
        "    X = (X - _min)/(_max - _min)\n",
        "    if config.mode == 'conv':\n",
        "        X = X.reshape(X.shape[0], X.shape[1], X.shape[2], 1)\n",
        "    elif config.mode == 'time':\n",
        "        X = X.reshape(X.shape[0], X.shape[1], X.shape[2])\n",
        "    y = to_categorical(y, num_classes=10)\n",
        "    config.data = (X,y)\n",
        "    with open(config.p_path, 'wb') as handle:\n",
        "        pickle.dump(config, handle, protocol = 2) \n",
        "    return X, y\n",
        "        \n",
        "        \n",
        "def get_conv_model():\n",
        "    model = Sequential()\n",
        "    model.add(Conv2D(16,(3, 3), activation='relu',strides=(1,1),padding='same', input_shape=input_shape))\n",
        "    model.add(Conv2D(32,(3, 3), activation='relu',strides=(1,1),padding='same', input_shape=input_shape))\n",
        "    model.add(Conv2D(64, (3, 3), activation='relu',strides=(1,1),padding='same', input_shape=input_shape))\n",
        "    model.add(Conv2D(128, (3,3), activation='relu',strides=(1,1),padding='same', input_shape=input_shape))\n",
        "    model.add(MaxPool2D((2,2)))\n",
        "    model.add(Dropout(0.5))\n",
        "    model.add(Flatten())\n",
        "    model.add(Dense(128, activation='relu'))\n",
        "    model.add(Dense(64, activation='relu'))\n",
        "    model.add(Dense(10, activation='softmax'))\n",
        "    model.summary()\n",
        "    model.compile(loss='categorical_crossentropy', optimizer='adam', metrics=['acc'], jit_compile = True)\n",
        "    return model\n",
        "\n",
        "def build_predictions(audio_dir):\n",
        "    y_true = []\n",
        "    y_pred = []\n",
        "    fn_prob = {}\n",
        "    \n",
        "    print('Extracting feature from audio')\n",
        "    for fn in tqdm(os.listdir(audio_dir)):\n",
        "        rate, wav = wavfile.read(os.path.join(audio_dir, fn))\n",
        "        label = fn2class[fn]\n",
        "        c = classes.index(label)\n",
        "        y_prob = []\n",
        "        \n",
        "        for i in range(0, wav.shape[0]-config.step, config.step):\n",
        "            sample = wav[i:i+config.step]\n",
        "            x = mfcc(sample, rate, numcep=config.nfeat, nfilt=config.nfilt, nfft=config.nfft)\n",
        "            x = (x - config.min)/(config.max - config.min)\n",
        "            \n",
        "            if config.mode == 'conv':\n",
        "                x = x.reshape(1, x.shape[0], x.shape[1], 1)\n",
        "            elif config.mode == 'time':\n",
        "                x = np.expand_dims(x, axis=0)\n",
        "            y_hat = model.predict(x, verbose=0)\n",
        "            y_prob.append(y_hat)\n",
        "            y_pred.append(np.argmax(y_hat))\n",
        "            y_true.append(c)\n",
        "        fn_prob[fn] = np.mean(y_prob, axis=0).flatten()\n",
        "    return y_true, y_pred, fn_prob"
      ],
      "metadata": {
        "id": "uwRKLJPtgNn5"
      },
      "execution_count": 72,
      "outputs": []
    },
    {
      "cell_type": "code",
      "source": [
        "df = pd.read_csv('/content/drive/MyDrive/instruments.csv')\n",
        "df.set_index('fname', inplace=True)\n",
        "\n",
        "for f in df.index:\n",
        "    rate, signal = wavfile.read('/content/drive/MyDrive/clean/'+f)\n",
        "    #return a colum contans length of audios\n",
        "    df.at[f, 'length'] = signal.shape[0]/rate\n",
        "\n",
        "#create a list of instruments' name\n",
        "classes = list(np.unique(df.label))\n",
        "#create length mean of each type\n",
        "class_dist = df.groupby(['label'])['length'].mean()\n",
        "t = class_dist.sum()\n",
        "t2 = df['length'].sum()\n",
        "\n",
        "n_samples = 2*int(df['length'].sum()/0.1)\n",
        "#probability of a type in 10 type\n",
        "prob_dist = class_dist/class_dist.sum()\n",
        "choices = np.random.choice(class_dist.index, p=prob_dist)\n",
        "\n",
        "#plot pie\n",
        "fig, ax = plt.subplots()\n",
        "ax.set_title('Class Distribution', y=1.08)\n",
        "ax.pie(class_dist, labels=class_dist.index, autopct='%1.1f%%',\n",
        "       shadow=False, startangle=90)\n",
        "ax.axis('equal')\n",
        "plt.show()\n",
        "\n"
      ],
      "metadata": {
        "colab": {
          "base_uri": "https://localhost:8080/",
          "height": 282
        },
        "id": "UMxdUYR0ghwp",
        "outputId": "361c2c04-549f-4360-997c-8210fd167bf7"
      },
      "execution_count": 73,
      "outputs": [
        {
          "output_type": "display_data",
          "data": {
            "text/plain": [
              "<Figure size 432x288 with 1 Axes>"
            ],
            "image/png": "[encoded data removed]"
          },
          "metadata": {}
        }
      ]
    },
    {
      "cell_type": "code",
      "source": [
        "config = Config(mode = 'conv')\n",
        "if config.mode == 'conv':\n",
        "    X, y = build_rand_feat()\n",
        "    y_flat = np.argmax(y, axis = 1)\n",
        "    input_shape = (X.shape[1], X.shape[2],1)\n",
        "    model = get_conv_model()"
      ],
      "metadata": {
        "colab": {
          "base_uri": "https://localhost:8080/"
        },
        "id": "qwWivWcuieAC",
        "outputId": "0345eec3-eba3-491f-a485-028c029b4d07"
      },
      "execution_count": 74,
      "outputs": [
        {
          "output_type": "stream",
          "name": "stderr",
          "text": [
            "100%|██████████| 26404/26404 [01:32<00:00, 284.66it/s]\n"
          ]
        },
        {
          "output_type": "stream",
          "name": "stdout",
          "text": [
            "Model: \"sequential_6\"\n",
            "_________________________________________________________________\n",
            " Layer (type)                Output Shape              Param #   \n",
            "=================================================================\n",
            " conv2d_24 (Conv2D)          (None, 9, 13, 16)         160       \n",
            "                                                                 \n",
            " conv2d_25 (Conv2D)          (None, 9, 13, 32)         4640      \n",
            "                                                                 \n",
            " conv2d_26 (Conv2D)          (None, 9, 13, 64)         18496     \n",
            "                                                                 \n",
            " conv2d_27 (Conv2D)          (None, 9, 13, 128)        73856     \n",
            "                                                                 \n",
            " max_pooling2d_6 (MaxPooling  (None, 4, 6, 128)        0         \n",
            " 2D)                                                             \n",
            "                                                                 \n",
            " dropout_6 (Dropout)         (None, 4, 6, 128)         0         \n",
            "                                                                 \n",
            " flatten_6 (Flatten)         (None, 3072)              0         \n",
            "                                                                 \n",
            " dense_18 (Dense)            (None, 128)               393344    \n",
            "                                                                 \n",
            " dense_19 (Dense)            (None, 64)                8256      \n",
            "                                                                 \n",
            " dense_20 (Dense)            (None, 10)                650       \n",
            "                                                                 \n",
            "=================================================================\n",
            "Total params: 499,402\n",
            "Trainable params: 499,402\n",
            "Non-trainable params: 0\n",
            "_________________________________________________________________\n"
          ]
        }
      ]
    },
    {
      "cell_type": "code",
      "source": [
        "class_weight = compute_class_weight(class_weight='balanced', classes=np.unique(y_flat),y=y_flat)\n",
        "class_weight = {i:class_weight[i] for i in range(len(class_weight))}\n",
        "\n",
        "checkpoint = ModelCheckpoint(config.model_path, monitor='val_acc', verbose=0, mode='max', \n",
        "                            save_best_only=True,\n",
        "                            save_weights_only=False, save_freq='epoch')\n",
        "#model.fit(X, y, epochs=10, batch_size=32, shuffle=True, class_weight=class_weight)\n",
        "model.fit(X, y, epochs=10, batch_size=32, shuffle=True, class_weight=class_weight,\n",
        "           validation_split=0.1, callbacks=[checkpoint])\n",
        "\n",
        "model.save(config.model_path)"
      ],
      "metadata": {
        "colab": {
          "base_uri": "https://localhost:8080/"
        },
        "id": "iKSPu5LGmFRx",
        "outputId": "27bdf781-b937-402d-a9d6-ea9b0d77223e"
      },
      "execution_count": 75,
      "outputs": [
        {
          "output_type": "stream",
          "name": "stdout",
          "text": [
            "Epoch 1/10\n",
            "743/743 [==============================] - ETA: 0s - loss: 0.9999 - acc: 0.6182"
          ]
        },
        {
          "output_type": "stream",
          "name": "stderr",
          "text": [
            "WARNING:absl:Found untraced functions such as _jit_compiled_convolution_op, _jit_compiled_convolution_op, _jit_compiled_convolution_op, _jit_compiled_convolution_op while saving (showing 4 of 4). These functions will not be directly callable after loading.\n"
          ]
        },
        {
          "output_type": "stream",
          "name": "stdout",
          "text": [
            "\b\b\b\b\b\b\b\b\b\b\b\b\b\b\b\b\b\b\b\b\b\b\b\b\b\b\b\b\b\b\b\b\b\b\b\b\b\b\b\b\b\b\b\b\b\b\b\b\b\b\b\b\b\b\b\b\b\b\b\b\b\b\b\b\b\b\b\b\b\b\b\b\b\b\b\b\b\b\b\r743/743 [==============================] - 7s 7ms/step - loss: 0.9999 - acc: 0.6182 - val_loss: 0.5773 - val_acc: 0.8027\n",
            "Epoch 2/10\n",
            "742/743 [============================>.] - ETA: 0s - loss: 0.5076 - acc: 0.8038"
          ]
        },
        {
          "output_type": "stream",
          "name": "stderr",
          "text": [
            "WARNING:absl:Found untraced functions such as _jit_compiled_convolution_op, _jit_compiled_convolution_op, _jit_compiled_convolution_op, _jit_compiled_convolution_op while saving (showing 4 of 4). These functions will not be directly callable after loading.\n"
          ]
        },
        {
          "output_type": "stream",
          "name": "stdout",
          "text": [
            "\b\b\b\b\b\b\b\b\b\b\b\b\b\b\b\b\b\b\b\b\b\b\b\b\b\b\b\b\b\b\b\b\b\b\b\b\b\b\b\b\b\b\b\b\b\b\b\b\b\b\b\b\b\b\b\b\b\b\b\b\b\b\b\b\b\b\b\b\b\b\b\b\b\b\b\b\b\b\b\r743/743 [==============================] - 4s 5ms/step - loss: 0.5076 - acc: 0.8039 - val_loss: 0.3964 - val_acc: 0.8603\n",
            "Epoch 3/10\n",
            "739/743 [============================>.] - ETA: 0s - loss: 0.3591 - acc: 0.8622"
          ]
        },
        {
          "output_type": "stream",
          "name": "stderr",
          "text": [
            "WARNING:absl:Found untraced functions such as _jit_compiled_convolution_op, _jit_compiled_convolution_op, _jit_compiled_convolution_op, _jit_compiled_convolution_op while saving (showing 4 of 4). These functions will not be directly callable after loading.\n"
          ]
        },
        {
          "output_type": "stream",
          "name": "stdout",
          "text": [
            "\b\b\b\b\b\b\b\b\b\b\b\b\b\b\b\b\b\b\b\b\b\b\b\b\b\b\b\b\b\b\b\b\b\b\b\b\b\b\b\b\b\b\b\b\b\b\b\b\b\b\b\b\b\b\b\b\b\b\b\b\b\b\b\b\b\b\b\b\b\b\b\b\b\b\b\b\b\b\b\r743/743 [==============================] - 5s 7ms/step - loss: 0.3588 - acc: 0.8622 - val_loss: 0.2793 - val_acc: 0.9016\n",
            "Epoch 4/10\n",
            "743/743 [==============================] - 4s 5ms/step - loss: 0.2865 - acc: 0.8899 - val_loss: 0.2761 - val_acc: 0.9012\n",
            "Epoch 5/10\n",
            "743/743 [==============================] - ETA: 0s - loss: 0.2448 - acc: 0.9068"
          ]
        },
        {
          "output_type": "stream",
          "name": "stderr",
          "text": [
            "WARNING:absl:Found untraced functions such as _jit_compiled_convolution_op, _jit_compiled_convolution_op, _jit_compiled_convolution_op, _jit_compiled_convolution_op while saving (showing 4 of 4). These functions will not be directly callable after loading.\n"
          ]
        },
        {
          "output_type": "stream",
          "name": "stdout",
          "text": [
            "\b\b\b\b\b\b\b\b\b\b\b\b\b\b\b\b\b\b\b\b\b\b\b\b\b\b\b\b\b\b\b\b\b\b\b\b\b\b\b\b\b\b\b\b\b\b\b\b\b\b\b\b\b\b\b\b\b\b\b\b\b\b\b\b\b\b\b\b\b\b\b\b\b\b\b\b\b\b\b\r743/743 [==============================] - 7s 9ms/step - loss: 0.2448 - acc: 0.9068 - val_loss: 0.2513 - val_acc: 0.9129\n",
            "Epoch 6/10\n",
            "732/743 [============================>.] - ETA: 0s - loss: 0.2010 - acc: 0.9197"
          ]
        },
        {
          "output_type": "stream",
          "name": "stderr",
          "text": [
            "WARNING:absl:Found untraced functions such as _jit_compiled_convolution_op, _jit_compiled_convolution_op, _jit_compiled_convolution_op, _jit_compiled_convolution_op while saving (showing 4 of 4). These functions will not be directly callable after loading.\n"
          ]
        },
        {
          "output_type": "stream",
          "name": "stdout",
          "text": [
            "\b\b\b\b\b\b\b\b\b\b\b\b\b\b\b\b\b\b\b\b\b\b\b\b\b\b\b\b\b\b\b\b\b\b\b\b\b\b\b\b\b\b\b\b\b\b\b\b\b\b\b\b\b\b\b\b\b\b\b\b\b\b\b\b\b\b\b\b\b\b\b\b\b\b\b\b\b\b\b\r743/743 [==============================] - 5s 7ms/step - loss: 0.2012 - acc: 0.9197 - val_loss: 0.2287 - val_acc: 0.9186\n",
            "Epoch 7/10\n",
            "727/743 [============================>.] - ETA: 0s - loss: 0.1936 - acc: 0.9260"
          ]
        },
        {
          "output_type": "stream",
          "name": "stderr",
          "text": [
            "WARNING:absl:Found untraced functions such as _jit_compiled_convolution_op, _jit_compiled_convolution_op, _jit_compiled_convolution_op, _jit_compiled_convolution_op while saving (showing 4 of 4). These functions will not be directly callable after loading.\n"
          ]
        },
        {
          "output_type": "stream",
          "name": "stdout",
          "text": [
            "\b\b\b\b\b\b\b\b\b\b\b\b\b\b\b\b\b\b\b\b\b\b\b\b\b\b\b\b\b\b\b\b\b\b\b\b\b\b\b\b\b\b\b\b\b\b\b\b\b\b\b\b\b\b\b\b\b\b\b\b\b\b\b\b\b\b\b\b\b\b\b\b\b\b\b\b\b\b\b\r743/743 [==============================] - 4s 5ms/step - loss: 0.1928 - acc: 0.9264 - val_loss: 0.1795 - val_acc: 0.9379\n",
            "Epoch 8/10\n",
            "733/743 [============================>.] - ETA: 0s - loss: 0.1723 - acc: 0.9349"
          ]
        },
        {
          "output_type": "stream",
          "name": "stderr",
          "text": [
            "WARNING:absl:Found untraced functions such as _jit_compiled_convolution_op, _jit_compiled_convolution_op, _jit_compiled_convolution_op, _jit_compiled_convolution_op while saving (showing 4 of 4). These functions will not be directly callable after loading.\n"
          ]
        },
        {
          "output_type": "stream",
          "name": "stdout",
          "text": [
            "\b\b\b\b\b\b\b\b\b\b\b\b\b\b\b\b\b\b\b\b\b\b\b\b\b\b\b\b\b\b\b\b\b\b\b\b\b\b\b\b\b\b\b\b\b\b\b\b\b\b\b\b\b\b\b\b\b\b\b\b\b\b\b\b\b\b\b\b\b\b\b\b\b\b\b\b\b\b\b\r743/743 [==============================] - 3s 5ms/step - loss: 0.1721 - acc: 0.9349 - val_loss: 0.1608 - val_acc: 0.9451\n",
            "Epoch 9/10\n",
            "728/743 [============================>.] - ETA: 0s - loss: 0.1546 - acc: 0.9395"
          ]
        },
        {
          "output_type": "stream",
          "name": "stderr",
          "text": [
            "WARNING:absl:Found untraced functions such as _jit_compiled_convolution_op, _jit_compiled_convolution_op, _jit_compiled_convolution_op, _jit_compiled_convolution_op while saving (showing 4 of 4). These functions will not be directly callable after loading.\n"
          ]
        },
        {
          "output_type": "stream",
          "name": "stdout",
          "text": [
            "\b\b\b\b\b\b\b\b\b\b\b\b\b\b\b\b\b\b\b\b\b\b\b\b\b\b\b\b\b\b\b\b\b\b\b\b\b\b\b\b\b\b\b\b\b\b\b\b\b\b\b\b\b\b\b\b\b\b\b\b\b\b\b\b\b\b\b\b\b\b\b\b\b\b\b\b\b\b\b\r743/743 [==============================] - 4s 5ms/step - loss: 0.1547 - acc: 0.9395 - val_loss: 0.1605 - val_acc: 0.9496\n",
            "Epoch 10/10\n",
            "728/743 [============================>.] - ETA: 0s - loss: 0.1474 - acc: 0.9427"
          ]
        },
        {
          "output_type": "stream",
          "name": "stderr",
          "text": [
            "WARNING:absl:Found untraced functions such as _jit_compiled_convolution_op, _jit_compiled_convolution_op, _jit_compiled_convolution_op, _jit_compiled_convolution_op while saving (showing 4 of 4). These functions will not be directly callable after loading.\n"
          ]
        },
        {
          "output_type": "stream",
          "name": "stdout",
          "text": [
            "\b\b\b\b\b\b\b\b\b\b\b\b\b\b\b\b\b\b\b\b\b\b\b\b\b\b\b\b\b\b\b\b\b\b\b\b\b\b\b\b\b\b\b\b\b\b\b\b\b\b\b\b\b\b\b\b\b\b\b\b\b\b\b\b\b\b\b\b\b\b\b\b\b\b\b\b\b\b\b\r743/743 [==============================] - 4s 5ms/step - loss: 0.1471 - acc: 0.9426 - val_loss: 0.1372 - val_acc: 0.9576\n"
          ]
        },
        {
          "output_type": "stream",
          "name": "stderr",
          "text": [
            "WARNING:absl:Found untraced functions such as _jit_compiled_convolution_op, _jit_compiled_convolution_op, _jit_compiled_convolution_op, _jit_compiled_convolution_op while saving (showing 4 of 4). These functions will not be directly callable after loading.\n"
          ]
        }
      ]
    },
    {
      "cell_type": "code",
      "source": [
        "# process predict data\n",
        "df = pd.read_csv('/content/drive/MyDrive/instruments.csv')\n",
        "classes = list(np.unique(df.label))\n",
        "fn2class = dict(zip(df.fname, df.label))\n",
        "p_path = os.path.join('/content/drive/MyDrive/pickle/', 'conv.p')\n",
        "\n",
        "with open(p_path,'rb') as handle:\n",
        "    config = pickle.load(handle)\n",
        "    \n",
        "model = load_model(config.model_path)\n",
        "\n",
        "y_true, y_pred, fn_prob = build_predictions('/content/drive/MyDrive/clean/')\n",
        "acc_score = accuracy_score(y_true=y_true, y_pred=y_pred)\n",
        "\n",
        "y_probs =[]\n",
        "for i, row in df.iterrows():\n",
        "    y_prob = fn_prob[row.fname]\n",
        "    y_probs.append(y_prob)\n",
        "    for c, p in zip(classes, y_prob):\n",
        "        df.at[i,c] = p\n",
        "        \n",
        "y_pred = [classes[np.argmax(y)] for y in y_probs]\n",
        "df['y_pred'] = y_pred\n",
        "df.to_csv('prediction.csv', index=False)"
      ],
      "metadata": {
        "colab": {
          "base_uri": "https://localhost:8080/"
        },
        "id": "BYK9Bd4pRUF-",
        "outputId": "59dc3e45-2389-494d-cff3-99f652b412a2"
      },
      "execution_count": 76,
      "outputs": [
        {
          "output_type": "stream",
          "name": "stdout",
          "text": [
            "Extracting feature from audio\n"
          ]
        },
        {
          "output_type": "stream",
          "name": "stderr",
          "text": [
            "100%|██████████| 300/300 [08:36<00:00,  1.72s/it]\n"
          ]
        }
      ]
    }
  ]
}